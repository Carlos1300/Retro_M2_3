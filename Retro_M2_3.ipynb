{
 "cells": [
  {
   "cell_type": "markdown",
   "metadata": {},
   "source": [
    "# Análisis del Modelo de Árbol de Decisión"
   ]
  },
  {
   "cell_type": "markdown",
   "metadata": {},
   "source": [
    "\n",
    "## Librerías a utilizar"
   ]
  },
  {
   "cell_type": "code",
   "execution_count": 2,
   "metadata": {},
   "outputs": [],
   "source": [
    "import numpy as np\n",
    "import pandas as pd\n",
    "import matplotlib.pyplot as plt\n",
    "from sklearn.tree import DecisionTreeClassifier     #Importing the model from the framework.\n",
    "from sklearn.model_selection import train_test_split    #Importing the splitter.\n",
    "from sklearn import metrics     #Importing the metrics for our model.\n",
    "\n",
    "from sklearn import tree\n",
    "\n",
    "from sklearn.model_selection import learning_curve"
   ]
  },
  {
   "cell_type": "markdown",
   "metadata": {},
   "source": [
    "## Importación del dataset"
   ]
  },
  {
   "cell_type": "code",
   "execution_count": 3,
   "metadata": {},
   "outputs": [
    {
     "data": {
      "text/html": [
       "<div>\n",
       "<style scoped>\n",
       "    .dataframe tbody tr th:only-of-type {\n",
       "        vertical-align: middle;\n",
       "    }\n",
       "\n",
       "    .dataframe tbody tr th {\n",
       "        vertical-align: top;\n",
       "    }\n",
       "\n",
       "    .dataframe thead th {\n",
       "        text-align: right;\n",
       "    }\n",
       "</style>\n",
       "<table border=\"1\" class=\"dataframe\">\n",
       "  <thead>\n",
       "    <tr style=\"text-align: right;\">\n",
       "      <th></th>\n",
       "      <th>pregnant</th>\n",
       "      <th>glucose</th>\n",
       "      <th>bp</th>\n",
       "      <th>skin</th>\n",
       "      <th>insulin</th>\n",
       "      <th>bmi</th>\n",
       "      <th>pedigree</th>\n",
       "      <th>age</th>\n",
       "      <th>label</th>\n",
       "    </tr>\n",
       "  </thead>\n",
       "  <tbody>\n",
       "    <tr>\n",
       "      <th>0</th>\n",
       "      <td>6</td>\n",
       "      <td>148</td>\n",
       "      <td>72</td>\n",
       "      <td>35</td>\n",
       "      <td>0</td>\n",
       "      <td>33.6</td>\n",
       "      <td>0.627</td>\n",
       "      <td>50</td>\n",
       "      <td>1</td>\n",
       "    </tr>\n",
       "    <tr>\n",
       "      <th>1</th>\n",
       "      <td>1</td>\n",
       "      <td>85</td>\n",
       "      <td>66</td>\n",
       "      <td>29</td>\n",
       "      <td>0</td>\n",
       "      <td>26.6</td>\n",
       "      <td>0.351</td>\n",
       "      <td>31</td>\n",
       "      <td>0</td>\n",
       "    </tr>\n",
       "    <tr>\n",
       "      <th>2</th>\n",
       "      <td>8</td>\n",
       "      <td>183</td>\n",
       "      <td>64</td>\n",
       "      <td>0</td>\n",
       "      <td>0</td>\n",
       "      <td>23.3</td>\n",
       "      <td>0.672</td>\n",
       "      <td>32</td>\n",
       "      <td>1</td>\n",
       "    </tr>\n",
       "    <tr>\n",
       "      <th>3</th>\n",
       "      <td>1</td>\n",
       "      <td>89</td>\n",
       "      <td>66</td>\n",
       "      <td>23</td>\n",
       "      <td>94</td>\n",
       "      <td>28.1</td>\n",
       "      <td>0.167</td>\n",
       "      <td>21</td>\n",
       "      <td>0</td>\n",
       "    </tr>\n",
       "    <tr>\n",
       "      <th>4</th>\n",
       "      <td>0</td>\n",
       "      <td>137</td>\n",
       "      <td>40</td>\n",
       "      <td>35</td>\n",
       "      <td>168</td>\n",
       "      <td>43.1</td>\n",
       "      <td>2.288</td>\n",
       "      <td>33</td>\n",
       "      <td>1</td>\n",
       "    </tr>\n",
       "    <tr>\n",
       "      <th>...</th>\n",
       "      <td>...</td>\n",
       "      <td>...</td>\n",
       "      <td>...</td>\n",
       "      <td>...</td>\n",
       "      <td>...</td>\n",
       "      <td>...</td>\n",
       "      <td>...</td>\n",
       "      <td>...</td>\n",
       "      <td>...</td>\n",
       "    </tr>\n",
       "    <tr>\n",
       "      <th>763</th>\n",
       "      <td>10</td>\n",
       "      <td>101</td>\n",
       "      <td>76</td>\n",
       "      <td>48</td>\n",
       "      <td>180</td>\n",
       "      <td>32.9</td>\n",
       "      <td>0.171</td>\n",
       "      <td>63</td>\n",
       "      <td>0</td>\n",
       "    </tr>\n",
       "    <tr>\n",
       "      <th>764</th>\n",
       "      <td>2</td>\n",
       "      <td>122</td>\n",
       "      <td>70</td>\n",
       "      <td>27</td>\n",
       "      <td>0</td>\n",
       "      <td>36.8</td>\n",
       "      <td>0.340</td>\n",
       "      <td>27</td>\n",
       "      <td>0</td>\n",
       "    </tr>\n",
       "    <tr>\n",
       "      <th>765</th>\n",
       "      <td>5</td>\n",
       "      <td>121</td>\n",
       "      <td>72</td>\n",
       "      <td>23</td>\n",
       "      <td>112</td>\n",
       "      <td>26.2</td>\n",
       "      <td>0.245</td>\n",
       "      <td>30</td>\n",
       "      <td>0</td>\n",
       "    </tr>\n",
       "    <tr>\n",
       "      <th>766</th>\n",
       "      <td>1</td>\n",
       "      <td>126</td>\n",
       "      <td>60</td>\n",
       "      <td>0</td>\n",
       "      <td>0</td>\n",
       "      <td>30.1</td>\n",
       "      <td>0.349</td>\n",
       "      <td>47</td>\n",
       "      <td>1</td>\n",
       "    </tr>\n",
       "    <tr>\n",
       "      <th>767</th>\n",
       "      <td>1</td>\n",
       "      <td>93</td>\n",
       "      <td>70</td>\n",
       "      <td>31</td>\n",
       "      <td>0</td>\n",
       "      <td>30.4</td>\n",
       "      <td>0.315</td>\n",
       "      <td>23</td>\n",
       "      <td>0</td>\n",
       "    </tr>\n",
       "  </tbody>\n",
       "</table>\n",
       "<p>768 rows × 9 columns</p>\n",
       "</div>"
      ],
      "text/plain": [
       "     pregnant  glucose  bp  skin  insulin   bmi  pedigree  age  label\n",
       "0           6      148  72    35        0  33.6     0.627   50      1\n",
       "1           1       85  66    29        0  26.6     0.351   31      0\n",
       "2           8      183  64     0        0  23.3     0.672   32      1\n",
       "3           1       89  66    23       94  28.1     0.167   21      0\n",
       "4           0      137  40    35      168  43.1     2.288   33      1\n",
       "..        ...      ...  ..   ...      ...   ...       ...  ...    ...\n",
       "763        10      101  76    48      180  32.9     0.171   63      0\n",
       "764         2      122  70    27        0  36.8     0.340   27      0\n",
       "765         5      121  72    23      112  26.2     0.245   30      0\n",
       "766         1      126  60     0        0  30.1     0.349   47      1\n",
       "767         1       93  70    31        0  30.4     0.315   23      0\n",
       "\n",
       "[768 rows x 9 columns]"
      ]
     },
     "execution_count": 3,
     "metadata": {},
     "output_type": "execute_result"
    }
   ],
   "source": [
    "columns = [\"pregnant\", \"glucose\", \"bp\", \"skin\", \"insulin\", \"bmi\", \"pedigree\", \"age\", \"label\"]   #Name of the columns to be used.\n",
    "\n",
    "df = pd.read_csv(\"./pima-indians-diabetes.csv\", header=None, names=columns)  #Importing the data we are going to use.\n",
    "\n",
    "features = [\"pregnant\", \"glucose\", \"bp\", \"skin\", \"insulin\", \"bmi\", \"pedigree\", \"age\"]   #Name of the feature columns we are going to use.\n",
    "\n",
    "X = df[features]    #Features to use on our model.\n",
    "x = df[features].values     #Values of the features.\n",
    "y = df.label    #Targets of our model.\n",
    "\n",
    "df"
   ]
  },
  {
   "cell_type": "markdown",
   "metadata": {},
   "source": [
    "## Partición del dataset"
   ]
  },
  {
   "cell_type": "code",
   "execution_count": 4,
   "metadata": {},
   "outputs": [],
   "source": [
    "X_train, X_test, y_train, y_test = train_test_split(x, y, test_size=0.2, \n",
    "                                                    random_state=40)    #Splitting the data"
   ]
  },
  {
   "cell_type": "markdown",
   "metadata": {},
   "source": [
    "# Modelado del Árbol de Decisión"
   ]
  },
  {
   "cell_type": "code",
   "execution_count": 13,
   "metadata": {},
   "outputs": [
    {
     "name": "stdout",
     "output_type": "stream",
     "text": [
      "Accuracy of the model in training is: 100.0 %\n",
      "ROC AUC of the model in training is: 1.0\n",
      "[[405   0]\n",
      " [  0 209]]\n",
      "Accuracy of the model in testing is: 75.0 %\n",
      "ROC AUC of the model in testing is: 0.729348795718109\n",
      "[[79 16]\n",
      " [22 37]]\n"
     ]
    }
   ],
   "source": [
    "tree_clf = DecisionTreeClassifier(criterion='gini')     #Define our model.\n",
    "tree_clf = tree_clf.fit(X_train,y_train)    #Fit our model to our data.\n",
    "\n",
    "y_pred_train = tree_clf.predict(X_train)\n",
    "y_pred_test = tree_clf.predict(X_test)   #Predict with out model.\n",
    "\n",
    "accuracy_train = round(metrics.accuracy_score(y_train, y_pred_train),2)*100  #Calculate the accuracy of the model.\n",
    "accuracy_test = round(metrics.accuracy_score(y_test, y_pred_test),2)*100  #Calculate the accuracy of the model.\n",
    "roc_train = metrics.roc_auc_score(y_train, y_pred_train)\n",
    "roc_test = metrics.roc_auc_score(y_test, y_pred_test)\n",
    "\n",
    "print(\"Accuracy of the model in training is: %s\" %(accuracy_train),\"%\")\n",
    "print(\"ROC AUC of the model in training is: %s\" %(roc_train))\n",
    "\n",
    "cmat_train = metrics.confusion_matrix(y_train, y_pred_train)\n",
    "print(cmat_train)\n",
    "\n",
    "print(\"Accuracy of the model in testing is: %s\" %(accuracy_test),\"%\")\n",
    "print(\"ROC AUC of the model in testing is: %s\" %(roc_test))\n",
    "\n",
    "cmat_test = metrics.confusion_matrix(y_test, y_pred_test)\n",
    "print(cmat_test)"
   ]
  },
  {
   "cell_type": "markdown",
   "metadata": {},
   "source": [
    "## Hyperparameter Tuning"
   ]
  },
  {
   "cell_type": "code",
   "execution_count": 15,
   "metadata": {},
   "outputs": [],
   "source": [
    "train_accu = []\n",
    "test_accu = []\n",
    "max_deep_list = list(range(2, 25))\n",
    "\n",
    "for deep in max_deep_list:\n",
    "    pre_tree = DecisionTreeClassifier(criterion='gini', max_depth=deep)\n",
    "    pre_tree.fit(X_train, y_train)\n",
    "    y_predtr_pre = pre_tree.predict(X_train)\n",
    "    y_predte_pre = pre_tree.predict(X_test)\n",
    "    train_accu.append(metrics.accuracy_score(y_train, y_predtr_pre))\n",
    "    test_accu.append(metrics.accuracy_score(y_test, y_predte_pre))"
   ]
  },
  {
   "cell_type": "code",
   "execution_count": 16,
   "metadata": {},
   "outputs": [
    {
     "data": {
      "image/png": "[encoded data removed]",
      "text/plain": [
       "<Figure size 432x288 with 1 Axes>"
      ]
     },
     "metadata": {
      "needs_background": "light"
     },
     "output_type": "display_data"
    }
   ],
   "source": [
    "plt.plot(max_deep_list, train_accu, color='r', label=\"Train\")\n",
    "plt.plot(max_deep_list, test_accu, color='b', label=\"Test\")\n",
    "plt.title('Decision Tree Fit')\n",
    "plt.legend()\n",
    "plt.ylabel('Accuracy')\n",
    "plt.xlabel('Number of Nodes')\n",
    "plt.show()"
   ]
  },
  {
   "cell_type": "code",
   "execution_count": 17,
   "metadata": {},
   "outputs": [
    {
     "name": "stdout",
     "output_type": "stream",
     "text": [
      "Accuracy of the model in training is: 85.0 %\n",
      "ROC AUC of the model in training is: 0.81672278338945\n",
      "[[367  38]\n",
      " [ 57 152]]\n",
      "Accuracy of the model in testing is: 79.0 %\n",
      "ROC AUC of the model in testing is: 0.7556645851917931\n",
      "[[84 11]\n",
      " [22 37]]\n"
     ]
    }
   ],
   "source": [
    "tuned_tree_clf = DecisionTreeClassifier(criterion='gini', max_depth=5)  #Obtain our tuned model.\n",
    "tuned_tree_clf = tuned_tree_clf.fit(X_train,y_train)\n",
    "\n",
    "y_pred_train = tuned_tree_clf.predict(X_train)\n",
    "y_pred_test = tuned_tree_clf.predict(X_test)   #Predict with out model.\n",
    "\n",
    "accuracy_train = round(metrics.accuracy_score(y_train, y_pred_train),2)*100  #Calculate the accuracy of the model.\n",
    "accuracy_test = round(metrics.accuracy_score(y_test, y_pred_test),2)*100  #Calculate the accuracy of the model.\n",
    "roc_train = metrics.roc_auc_score(y_train, y_pred_train)\n",
    "roc_test = metrics.roc_auc_score(y_test, y_pred_test)\n",
    "\n",
    "print(\"Accuracy of the model in training is: %s\" %(accuracy_train),\"%\")\n",
    "print(\"ROC AUC of the model in training is: %s\" %(roc_train))\n",
    "\n",
    "cmat_train = metrics.confusion_matrix(y_train, y_pred_train)\n",
    "print(cmat_train)\n",
    "\n",
    "print(\"Accuracy of the model in testing is: %s\" %(accuracy_test),\"%\")\n",
    "print(\"ROC AUC of the model in testing is: %s\" %(roc_test))\n",
    "\n",
    "cmat_test = metrics.confusion_matrix(y_test, y_pred_test)\n",
    "print(cmat_test)"
   ]
  }
 ],
 "metadata": {
  "kernelspec": {
   "display_name": "Python 3.10.4 64-bit",
   "language": "python",
   "name": "python3"
  },
  "language_info": {
   "codemirror_mode": {
    "name": "ipython",
    "version": 3
   },
   "file_extension": ".py",
   "mimetype": "text/x-python",
   "name": "python",
   "nbconvert_exporter": "python",
   "pygments_lexer": "ipython3",
   "version": "3.10.4"
  },
  "orig_nbformat": 4,
  "vscode": {
   "interpreter": {
    "hash": "d3e10ef16274dd72e574b8fa73b58450b957d8421a2901baded3cca26fcf5dda"
   }
  }
 },
 "nbformat": 4,
 "nbformat_minor": 2
}
